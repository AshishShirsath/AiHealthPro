{
 "cells": [
  {
   "cell_type": "code",
   "execution_count": 23,
   "id": "7762f261-19e3-433f-bc0c-622c08b5db93",
   "metadata": {},
   "outputs": [],
   "source": [
    "import tensorflow as tf"
   ]
  },
  {
   "cell_type": "code",
   "execution_count": 24,
   "id": "ef2877eb-e83f-425c-b87c-4d9f354aac13",
   "metadata": {},
   "outputs": [],
   "source": [
    "import numpy as np"
   ]
  },
  {
   "cell_type": "code",
   "execution_count": 25,
   "id": "32eebd73-3beb-44a3-b1b8-9c4fd7520186",
   "metadata": {},
   "outputs": [],
   "source": [
    "from tensorflow.keras.preprocessing.image import ImageDataGenerator"
   ]
  },
  {
   "cell_type": "code",
   "execution_count": 26,
   "id": "8fc3b0bf-4043-4295-ade2-e7c248c08ceb",
   "metadata": {},
   "outputs": [],
   "source": [
    "def preprocess_image(image):\n",
    "    image = tf.image.resize(image,(120,120))\n",
    "    image=tf.image.adjust_brightness(image,0.2)\n",
    "    image=tf.image.random_contrast(image, lower=0.5, upper=2.0)\n",
    "    return image"
   ]
  },
  {
   "cell_type": "code",
   "execution_count": 27,
   "id": "de10e444-6052-4095-a495-139524d53716",
   "metadata": {},
   "outputs": [],
   "source": [
    "datagen=ImageDataGenerator(rescale=1./255,shear_range=0.2,zoom_range=0.2,horizontal_flip=True,preprocessing_function=preprocess_image,validation_split=0.2)"
   ]
  },
  {
   "cell_type": "code",
   "execution_count": 28,
   "id": "e99b6499-091a-4173-858a-680d2046d42b",
   "metadata": {},
   "outputs": [
    {
     "name": "stdout",
     "output_type": "stream",
     "text": [
      "Found 36617 images belonging to 28 classes.\n"
     ]
    }
   ],
   "source": [
    "train_data=datagen.flow_from_directory(\"D:\\\\IMAGE DISEASES\\\\archive (25)\\\\Augumented Data\",batch_size=32,class_mode=\"categorical\",target_size=(120,120),subset=\"training\")"
   ]
  },
  {
   "cell_type": "code",
   "execution_count": 29,
   "id": "c672e442-2b4b-4cdb-aeca-5c5445171526",
   "metadata": {},
   "outputs": [
    {
     "name": "stdout",
     "output_type": "stream",
     "text": [
      "Found 9142 images belonging to 28 classes.\n"
     ]
    }
   ],
   "source": [
    "test_data=datagen.flow_from_directory(\"D:\\\\IMAGE DISEASES\\\\archive (25)\\\\Augumented Data\",batch_size=32,class_mode=\"categorical\",target_size=(120,120),subset=\"validation\")"
   ]
  },
  {
   "cell_type": "code",
   "execution_count": 30,
   "id": "e0bbf0a1-449d-4b1b-b49e-7601778dd6b5",
   "metadata": {},
   "outputs": [],
   "source": [
    "cnn=tf.keras.models.Sequential()"
   ]
  },
  {
   "cell_type": "code",
   "execution_count": 31,
   "id": "7278241a-9ab6-4367-974f-15b069d37071",
   "metadata": {},
   "outputs": [
    {
     "name": "stderr",
     "output_type": "stream",
     "text": [
      "C:\\Users\\Lenovo\\AppData\\Local\\Programs\\Python\\Python311\\Lib\\site-packages\\keras\\src\\layers\\convolutional\\base_conv.py:99: UserWarning: Do not pass an `input_shape`/`input_dim` argument to a layer. When using Sequential models, prefer using an `Input(shape)` object as the first layer in the model instead.\n",
      "  super().__init__(\n"
     ]
    }
   ],
   "source": [
    "cnn.add(tf.keras.layers.Conv2D(activation=\"relu\",kernel_size=3,filters=64,input_shape=[120,120,3]))"
   ]
  },
  {
   "cell_type": "code",
   "execution_count": 32,
   "id": "9b910ec5-d240-4527-a471-297adf44ad31",
   "metadata": {},
   "outputs": [],
   "source": [
    "cnn.add(tf.keras.layers.MaxPool2D())"
   ]
  },
  {
   "cell_type": "code",
   "execution_count": 33,
   "id": "e4d2d41b-7bb4-4e2a-b05c-ea049cf3784b",
   "metadata": {},
   "outputs": [],
   "source": [
    "cnn.add(tf.keras.layers.Conv2D(activation=\"relu\",kernel_size=3,filters=64))"
   ]
  },
  {
   "cell_type": "code",
   "execution_count": 34,
   "id": "70417e29-c86d-4ef4-a9d3-2077ef39fcb1",
   "metadata": {},
   "outputs": [],
   "source": [
    "cnn.add(tf.keras.layers.MaxPool2D())"
   ]
  },
  {
   "cell_type": "code",
   "execution_count": 35,
   "id": "cdb15cc8-80a9-49fa-99fd-3f72568cf116",
   "metadata": {},
   "outputs": [],
   "source": [
    "cnn.add(tf.keras.layers.Dropout(0.5))"
   ]
  },
  {
   "cell_type": "code",
   "execution_count": 36,
   "id": "9d216f1a-f053-4434-a779-d331caaa55f5",
   "metadata": {},
   "outputs": [],
   "source": [
    "cnn.add(tf.keras.layers.Flatten())"
   ]
  },
  {
   "cell_type": "code",
   "execution_count": 37,
   "id": "b487a56f-8fe0-4c8a-a36a-8649c099c316",
   "metadata": {},
   "outputs": [],
   "source": [
    "cnn.add(tf.keras.layers.Dense(activation='relu',units=128))"
   ]
  },
  {
   "cell_type": "code",
   "execution_count": 38,
   "id": "8988d6a5-1fcf-4a33-82dc-b14a8cb23e1c",
   "metadata": {},
   "outputs": [],
   "source": [
    "cnn.add(tf.keras.layers.Dense(units=28,activation='softmax'))"
   ]
  },
  {
   "cell_type": "code",
   "execution_count": 39,
   "id": "0dc84921-9c02-4643-bad0-41f89921ee3b",
   "metadata": {},
   "outputs": [],
   "source": [
    "cnn.compile(optimizer=\"adam\",loss=\"categorical_crossentropy\",metrics=['accuracy'])"
   ]
  },
  {
   "cell_type": "code",
   "execution_count": 40,
   "id": "d1a743ca-cfd5-4dc9-a0e6-ae5d0df68209",
   "metadata": {},
   "outputs": [],
   "source": [
    "from tensorflow.keras.callbacks import EarlyStopping, ReduceLROnPlateau\n",
    "early_stopping = EarlyStopping(monitor='val_loss', patience=5, restore_best_weights=True)\n",
    "lr_reduction = ReduceLROnPlateau(monitor='val_loss', factor=0.5, patience=3, min_lr=1e-6)"
   ]
  },
  {
   "cell_type": "code",
   "execution_count": 41,
   "id": "f6113ebb-422e-4fba-a2d1-fb2e654e1545",
   "metadata": {},
   "outputs": [
    {
     "data": {
      "text/html": [
       "<pre style=\"white-space:pre;overflow-x:auto;line-height:normal;font-family:Menlo,'DejaVu Sans Mono',consolas,'Courier New',monospace\"><span style=\"font-weight: bold\">Model: \"sequential_1\"</span>\n",
       "</pre>\n"
      ],
      "text/plain": [
       "\u001b[1mModel: \"sequential_1\"\u001b[0m\n"
      ]
     },
     "metadata": {},
     "output_type": "display_data"
    },
    {
     "data": {
      "text/html": [
       "<pre style=\"white-space:pre;overflow-x:auto;line-height:normal;font-family:Menlo,'DejaVu Sans Mono',consolas,'Courier New',monospace\">┏━━━━━━━━━━━━━━━━━━━━━━━━━━━━━━━━━━━━━━┳━━━━━━━━━━━━━━━━━━━━━━━━━━━━━┳━━━━━━━━━━━━━━━━━┓\n",
       "┃<span style=\"font-weight: bold\"> Layer (type)                         </span>┃<span style=\"font-weight: bold\"> Output Shape                </span>┃<span style=\"font-weight: bold\">         Param # </span>┃\n",
       "┡━━━━━━━━━━━━━━━━━━━━━━━━━━━━━━━━━━━━━━╇━━━━━━━━━━━━━━━━━━━━━━━━━━━━━╇━━━━━━━━━━━━━━━━━┩\n",
       "│ conv2d_2 (<span style=\"color: #0087ff; text-decoration-color: #0087ff\">Conv2D</span>)                    │ (<span style=\"color: #00d7ff; text-decoration-color: #00d7ff\">None</span>, <span style=\"color: #00af00; text-decoration-color: #00af00\">118</span>, <span style=\"color: #00af00; text-decoration-color: #00af00\">118</span>, <span style=\"color: #00af00; text-decoration-color: #00af00\">64</span>)        │           <span style=\"color: #00af00; text-decoration-color: #00af00\">1,792</span> │\n",
       "├──────────────────────────────────────┼─────────────────────────────┼─────────────────┤\n",
       "│ max_pooling2d_2 (<span style=\"color: #0087ff; text-decoration-color: #0087ff\">MaxPooling2D</span>)       │ (<span style=\"color: #00d7ff; text-decoration-color: #00d7ff\">None</span>, <span style=\"color: #00af00; text-decoration-color: #00af00\">59</span>, <span style=\"color: #00af00; text-decoration-color: #00af00\">59</span>, <span style=\"color: #00af00; text-decoration-color: #00af00\">64</span>)          │               <span style=\"color: #00af00; text-decoration-color: #00af00\">0</span> │\n",
       "├──────────────────────────────────────┼─────────────────────────────┼─────────────────┤\n",
       "│ conv2d_3 (<span style=\"color: #0087ff; text-decoration-color: #0087ff\">Conv2D</span>)                    │ (<span style=\"color: #00d7ff; text-decoration-color: #00d7ff\">None</span>, <span style=\"color: #00af00; text-decoration-color: #00af00\">57</span>, <span style=\"color: #00af00; text-decoration-color: #00af00\">57</span>, <span style=\"color: #00af00; text-decoration-color: #00af00\">64</span>)          │          <span style=\"color: #00af00; text-decoration-color: #00af00\">36,928</span> │\n",
       "├──────────────────────────────────────┼─────────────────────────────┼─────────────────┤\n",
       "│ max_pooling2d_3 (<span style=\"color: #0087ff; text-decoration-color: #0087ff\">MaxPooling2D</span>)       │ (<span style=\"color: #00d7ff; text-decoration-color: #00d7ff\">None</span>, <span style=\"color: #00af00; text-decoration-color: #00af00\">28</span>, <span style=\"color: #00af00; text-decoration-color: #00af00\">28</span>, <span style=\"color: #00af00; text-decoration-color: #00af00\">64</span>)          │               <span style=\"color: #00af00; text-decoration-color: #00af00\">0</span> │\n",
       "├──────────────────────────────────────┼─────────────────────────────┼─────────────────┤\n",
       "│ dropout_1 (<span style=\"color: #0087ff; text-decoration-color: #0087ff\">Dropout</span>)                  │ (<span style=\"color: #00d7ff; text-decoration-color: #00d7ff\">None</span>, <span style=\"color: #00af00; text-decoration-color: #00af00\">28</span>, <span style=\"color: #00af00; text-decoration-color: #00af00\">28</span>, <span style=\"color: #00af00; text-decoration-color: #00af00\">64</span>)          │               <span style=\"color: #00af00; text-decoration-color: #00af00\">0</span> │\n",
       "├──────────────────────────────────────┼─────────────────────────────┼─────────────────┤\n",
       "│ flatten_1 (<span style=\"color: #0087ff; text-decoration-color: #0087ff\">Flatten</span>)                  │ (<span style=\"color: #00d7ff; text-decoration-color: #00d7ff\">None</span>, <span style=\"color: #00af00; text-decoration-color: #00af00\">50176</span>)               │               <span style=\"color: #00af00; text-decoration-color: #00af00\">0</span> │\n",
       "├──────────────────────────────────────┼─────────────────────────────┼─────────────────┤\n",
       "│ dense_2 (<span style=\"color: #0087ff; text-decoration-color: #0087ff\">Dense</span>)                      │ (<span style=\"color: #00d7ff; text-decoration-color: #00d7ff\">None</span>, <span style=\"color: #00af00; text-decoration-color: #00af00\">128</span>)                 │       <span style=\"color: #00af00; text-decoration-color: #00af00\">6,422,656</span> │\n",
       "├──────────────────────────────────────┼─────────────────────────────┼─────────────────┤\n",
       "│ dense_3 (<span style=\"color: #0087ff; text-decoration-color: #0087ff\">Dense</span>)                      │ (<span style=\"color: #00d7ff; text-decoration-color: #00d7ff\">None</span>, <span style=\"color: #00af00; text-decoration-color: #00af00\">28</span>)                  │           <span style=\"color: #00af00; text-decoration-color: #00af00\">3,612</span> │\n",
       "└──────────────────────────────────────┴─────────────────────────────┴─────────────────┘\n",
       "</pre>\n"
      ],
      "text/plain": [
       "┏━━━━━━━━━━━━━━━━━━━━━━━━━━━━━━━━━━━━━━┳━━━━━━━━━━━━━━━━━━━━━━━━━━━━━┳━━━━━━━━━━━━━━━━━┓\n",
       "┃\u001b[1m \u001b[0m\u001b[1mLayer (type)                        \u001b[0m\u001b[1m \u001b[0m┃\u001b[1m \u001b[0m\u001b[1mOutput Shape               \u001b[0m\u001b[1m \u001b[0m┃\u001b[1m \u001b[0m\u001b[1m        Param #\u001b[0m\u001b[1m \u001b[0m┃\n",
       "┡━━━━━━━━━━━━━━━━━━━━━━━━━━━━━━━━━━━━━━╇━━━━━━━━━━━━━━━━━━━━━━━━━━━━━╇━━━━━━━━━━━━━━━━━┩\n",
       "│ conv2d_2 (\u001b[38;5;33mConv2D\u001b[0m)                    │ (\u001b[38;5;45mNone\u001b[0m, \u001b[38;5;34m118\u001b[0m, \u001b[38;5;34m118\u001b[0m, \u001b[38;5;34m64\u001b[0m)        │           \u001b[38;5;34m1,792\u001b[0m │\n",
       "├──────────────────────────────────────┼─────────────────────────────┼─────────────────┤\n",
       "│ max_pooling2d_2 (\u001b[38;5;33mMaxPooling2D\u001b[0m)       │ (\u001b[38;5;45mNone\u001b[0m, \u001b[38;5;34m59\u001b[0m, \u001b[38;5;34m59\u001b[0m, \u001b[38;5;34m64\u001b[0m)          │               \u001b[38;5;34m0\u001b[0m │\n",
       "├──────────────────────────────────────┼─────────────────────────────┼─────────────────┤\n",
       "│ conv2d_3 (\u001b[38;5;33mConv2D\u001b[0m)                    │ (\u001b[38;5;45mNone\u001b[0m, \u001b[38;5;34m57\u001b[0m, \u001b[38;5;34m57\u001b[0m, \u001b[38;5;34m64\u001b[0m)          │          \u001b[38;5;34m36,928\u001b[0m │\n",
       "├──────────────────────────────────────┼─────────────────────────────┼─────────────────┤\n",
       "│ max_pooling2d_3 (\u001b[38;5;33mMaxPooling2D\u001b[0m)       │ (\u001b[38;5;45mNone\u001b[0m, \u001b[38;5;34m28\u001b[0m, \u001b[38;5;34m28\u001b[0m, \u001b[38;5;34m64\u001b[0m)          │               \u001b[38;5;34m0\u001b[0m │\n",
       "├──────────────────────────────────────┼─────────────────────────────┼─────────────────┤\n",
       "│ dropout_1 (\u001b[38;5;33mDropout\u001b[0m)                  │ (\u001b[38;5;45mNone\u001b[0m, \u001b[38;5;34m28\u001b[0m, \u001b[38;5;34m28\u001b[0m, \u001b[38;5;34m64\u001b[0m)          │               \u001b[38;5;34m0\u001b[0m │\n",
       "├──────────────────────────────────────┼─────────────────────────────┼─────────────────┤\n",
       "│ flatten_1 (\u001b[38;5;33mFlatten\u001b[0m)                  │ (\u001b[38;5;45mNone\u001b[0m, \u001b[38;5;34m50176\u001b[0m)               │               \u001b[38;5;34m0\u001b[0m │\n",
       "├──────────────────────────────────────┼─────────────────────────────┼─────────────────┤\n",
       "│ dense_2 (\u001b[38;5;33mDense\u001b[0m)                      │ (\u001b[38;5;45mNone\u001b[0m, \u001b[38;5;34m128\u001b[0m)                 │       \u001b[38;5;34m6,422,656\u001b[0m │\n",
       "├──────────────────────────────────────┼─────────────────────────────┼─────────────────┤\n",
       "│ dense_3 (\u001b[38;5;33mDense\u001b[0m)                      │ (\u001b[38;5;45mNone\u001b[0m, \u001b[38;5;34m28\u001b[0m)                  │           \u001b[38;5;34m3,612\u001b[0m │\n",
       "└──────────────────────────────────────┴─────────────────────────────┴─────────────────┘\n"
      ]
     },
     "metadata": {},
     "output_type": "display_data"
    },
    {
     "data": {
      "text/html": [
       "<pre style=\"white-space:pre;overflow-x:auto;line-height:normal;font-family:Menlo,'DejaVu Sans Mono',consolas,'Courier New',monospace\"><span style=\"font-weight: bold\"> Total params: </span><span style=\"color: #00af00; text-decoration-color: #00af00\">6,464,988</span> (24.66 MB)\n",
       "</pre>\n"
      ],
      "text/plain": [
       "\u001b[1m Total params: \u001b[0m\u001b[38;5;34m6,464,988\u001b[0m (24.66 MB)\n"
      ]
     },
     "metadata": {},
     "output_type": "display_data"
    },
    {
     "data": {
      "text/html": [
       "<pre style=\"white-space:pre;overflow-x:auto;line-height:normal;font-family:Menlo,'DejaVu Sans Mono',consolas,'Courier New',monospace\"><span style=\"font-weight: bold\"> Trainable params: </span><span style=\"color: #00af00; text-decoration-color: #00af00\">6,464,988</span> (24.66 MB)\n",
       "</pre>\n"
      ],
      "text/plain": [
       "\u001b[1m Trainable params: \u001b[0m\u001b[38;5;34m6,464,988\u001b[0m (24.66 MB)\n"
      ]
     },
     "metadata": {},
     "output_type": "display_data"
    },
    {
     "data": {
      "text/html": [
       "<pre style=\"white-space:pre;overflow-x:auto;line-height:normal;font-family:Menlo,'DejaVu Sans Mono',consolas,'Courier New',monospace\"><span style=\"font-weight: bold\"> Non-trainable params: </span><span style=\"color: #00af00; text-decoration-color: #00af00\">0</span> (0.00 B)\n",
       "</pre>\n"
      ],
      "text/plain": [
       "\u001b[1m Non-trainable params: \u001b[0m\u001b[38;5;34m0\u001b[0m (0.00 B)\n"
      ]
     },
     "metadata": {},
     "output_type": "display_data"
    }
   ],
   "source": [
    "cnn.summary()"
   ]
  },
  {
   "cell_type": "code",
   "execution_count": 42,
   "id": "f4dcf107-21bf-4444-b6e2-63f59edc0af0",
   "metadata": {},
   "outputs": [
    {
     "name": "stdout",
     "output_type": "stream",
     "text": [
      "Epoch 1/60\n"
     ]
    },
    {
     "name": "stderr",
     "output_type": "stream",
     "text": [
      "C:\\Users\\Lenovo\\AppData\\Local\\Programs\\Python\\Python311\\Lib\\site-packages\\keras\\src\\trainers\\data_adapters\\py_dataset_adapter.py:120: UserWarning: Your `PyDataset` class should call `super().__init__(**kwargs)` in its constructor. `**kwargs` can include `workers`, `use_multiprocessing`, `max_queue_size`. Do not pass these arguments to `fit()`, as they will be ignored.\n",
      "  self._warn_if_super_not_called()\n"
     ]
    },
    {
     "name": "stdout",
     "output_type": "stream",
     "text": [
      "\u001b[1m1145/1145\u001b[0m \u001b[32m━━━━━━━━━━━━━━━━━━━━\u001b[0m\u001b[37m\u001b[0m \u001b[1m401s\u001b[0m 349ms/step - accuracy: 0.3701 - loss: 1.7667 - val_accuracy: 0.5393 - val_loss: 1.1250 - learning_rate: 0.0010\n",
      "Epoch 2/60\n",
      "\u001b[1m1145/1145\u001b[0m \u001b[32m━━━━━━━━━━━━━━━━━━━━\u001b[0m\u001b[37m\u001b[0m \u001b[1m400s\u001b[0m 349ms/step - accuracy: 0.5515 - loss: 1.0971 - val_accuracy: 0.5730 - val_loss: 1.0398 - learning_rate: 0.0010\n",
      "Epoch 3/60\n",
      "\u001b[1m1145/1145\u001b[0m \u001b[32m━━━━━━━━━━━━━━━━━━━━\u001b[0m\u001b[37m\u001b[0m \u001b[1m436s\u001b[0m 380ms/step - accuracy: 0.5950 - loss: 1.0029 - val_accuracy: 0.6075 - val_loss: 0.9511 - learning_rate: 0.0010\n",
      "Epoch 4/60\n",
      "\u001b[1m1145/1145\u001b[0m \u001b[32m━━━━━━━━━━━━━━━━━━━━\u001b[0m\u001b[37m\u001b[0m \u001b[1m435s\u001b[0m 379ms/step - accuracy: 0.6187 - loss: 0.9328 - val_accuracy: 0.6267 - val_loss: 0.9256 - learning_rate: 0.0010\n",
      "Epoch 5/60\n",
      "\u001b[1m1145/1145\u001b[0m \u001b[32m━━━━━━━━━━━━━━━━━━━━\u001b[0m\u001b[37m\u001b[0m \u001b[1m397s\u001b[0m 346ms/step - accuracy: 0.6400 - loss: 0.8779 - val_accuracy: 0.6291 - val_loss: 0.9290 - learning_rate: 0.0010\n",
      "Epoch 6/60\n",
      "\u001b[1m1145/1145\u001b[0m \u001b[32m━━━━━━━━━━━━━━━━━━━━\u001b[0m\u001b[37m\u001b[0m \u001b[1m397s\u001b[0m 346ms/step - accuracy: 0.6476 - loss: 0.8514 - val_accuracy: 0.6326 - val_loss: 0.8874 - learning_rate: 0.0010\n",
      "Epoch 7/60\n",
      "\u001b[1m1145/1145\u001b[0m \u001b[32m━━━━━━━━━━━━━━━━━━━━\u001b[0m\u001b[37m\u001b[0m \u001b[1m401s\u001b[0m 349ms/step - accuracy: 0.6645 - loss: 0.8316 - val_accuracy: 0.6447 - val_loss: 0.8683 - learning_rate: 0.0010\n",
      "Epoch 8/60\n",
      "\u001b[1m1145/1145\u001b[0m \u001b[32m━━━━━━━━━━━━━━━━━━━━\u001b[0m\u001b[37m\u001b[0m \u001b[1m396s\u001b[0m 345ms/step - accuracy: 0.6679 - loss: 0.8032 - val_accuracy: 0.6480 - val_loss: 0.8735 - learning_rate: 0.0010\n",
      "Epoch 9/60\n",
      "\u001b[1m1145/1145\u001b[0m \u001b[32m━━━━━━━━━━━━━━━━━━━━\u001b[0m\u001b[37m\u001b[0m \u001b[1m397s\u001b[0m 346ms/step - accuracy: 0.6726 - loss: 0.7880 - val_accuracy: 0.6438 - val_loss: 0.8591 - learning_rate: 0.0010\n",
      "Epoch 10/60\n",
      "\u001b[1m1145/1145\u001b[0m \u001b[32m━━━━━━━━━━━━━━━━━━━━\u001b[0m\u001b[37m\u001b[0m \u001b[1m398s\u001b[0m 347ms/step - accuracy: 0.6930 - loss: 0.7567 - val_accuracy: 0.6582 - val_loss: 0.8435 - learning_rate: 0.0010\n",
      "Epoch 11/60\n",
      "\u001b[1m1145/1145\u001b[0m \u001b[32m━━━━━━━━━━━━━━━━━━━━\u001b[0m\u001b[37m\u001b[0m \u001b[1m397s\u001b[0m 346ms/step - accuracy: 0.6945 - loss: 0.7432 - val_accuracy: 0.6536 - val_loss: 0.8754 - learning_rate: 0.0010\n",
      "Epoch 12/60\n",
      "\u001b[1m1145/1145\u001b[0m \u001b[32m━━━━━━━━━━━━━━━━━━━━\u001b[0m\u001b[37m\u001b[0m \u001b[1m401s\u001b[0m 350ms/step - accuracy: 0.6921 - loss: 0.7355 - val_accuracy: 0.6611 - val_loss: 0.8288 - learning_rate: 0.0010\n",
      "Epoch 13/60\n",
      "\u001b[1m1145/1145\u001b[0m \u001b[32m━━━━━━━━━━━━━━━━━━━━\u001b[0m\u001b[37m\u001b[0m \u001b[1m397s\u001b[0m 345ms/step - accuracy: 0.7052 - loss: 0.7195 - val_accuracy: 0.6581 - val_loss: 0.8640 - learning_rate: 0.0010\n",
      "Epoch 14/60\n",
      "\u001b[1m1145/1145\u001b[0m \u001b[32m━━━━━━━━━━━━━━━━━━━━\u001b[0m\u001b[37m\u001b[0m \u001b[1m397s\u001b[0m 346ms/step - accuracy: 0.7051 - loss: 0.7123 - val_accuracy: 0.6739 - val_loss: 0.8045 - learning_rate: 0.0010\n",
      "Epoch 15/60\n",
      "\u001b[1m1145/1145\u001b[0m \u001b[32m━━━━━━━━━━━━━━━━━━━━\u001b[0m\u001b[37m\u001b[0m \u001b[1m397s\u001b[0m 346ms/step - accuracy: 0.7174 - loss: 0.6853 - val_accuracy: 0.6816 - val_loss: 0.7979 - learning_rate: 0.0010\n",
      "Epoch 16/60\n",
      "\u001b[1m1145/1145\u001b[0m \u001b[32m━━━━━━━━━━━━━━━━━━━━\u001b[0m\u001b[37m\u001b[0m \u001b[1m399s\u001b[0m 348ms/step - accuracy: 0.7170 - loss: 0.6893 - val_accuracy: 0.6695 - val_loss: 0.8165 - learning_rate: 0.0010\n",
      "Epoch 17/60\n",
      "\u001b[1m1145/1145\u001b[0m \u001b[32m━━━━━━━━━━━━━━━━━━━━\u001b[0m\u001b[37m\u001b[0m \u001b[1m402s\u001b[0m 351ms/step - accuracy: 0.7205 - loss: 0.6763 - val_accuracy: 0.6953 - val_loss: 0.7641 - learning_rate: 0.0010\n",
      "Epoch 18/60\n",
      "\u001b[1m1145/1145\u001b[0m \u001b[32m━━━━━━━━━━━━━━━━━━━━\u001b[0m\u001b[37m\u001b[0m \u001b[1m589s\u001b[0m 514ms/step - accuracy: 0.7216 - loss: 0.6743 - val_accuracy: 0.6825 - val_loss: 0.8128 - learning_rate: 0.0010\n",
      "Epoch 19/60\n",
      "\u001b[1m1145/1145\u001b[0m \u001b[32m━━━━━━━━━━━━━━━━━━━━\u001b[0m\u001b[37m\u001b[0m \u001b[1m443s\u001b[0m 386ms/step - accuracy: 0.7288 - loss: 0.6585 - val_accuracy: 0.6891 - val_loss: 0.7871 - learning_rate: 0.0010\n",
      "Epoch 20/60\n",
      "\u001b[1m1145/1145\u001b[0m \u001b[32m━━━━━━━━━━━━━━━━━━━━\u001b[0m\u001b[37m\u001b[0m \u001b[1m402s\u001b[0m 351ms/step - accuracy: 0.7323 - loss: 0.6523 - val_accuracy: 0.6881 - val_loss: 0.7817 - learning_rate: 0.0010\n",
      "Epoch 21/60\n",
      "\u001b[1m1145/1145\u001b[0m \u001b[32m━━━━━━━━━━━━━━━━━━━━\u001b[0m\u001b[37m\u001b[0m \u001b[1m399s\u001b[0m 347ms/step - accuracy: 0.7458 - loss: 0.6097 - val_accuracy: 0.7093 - val_loss: 0.7677 - learning_rate: 5.0000e-04\n",
      "Epoch 22/60\n",
      "\u001b[1m1145/1145\u001b[0m \u001b[32m━━━━━━━━━━━━━━━━━━━━\u001b[0m\u001b[37m\u001b[0m \u001b[1m399s\u001b[0m 347ms/step - accuracy: 0.7600 - loss: 0.5894 - val_accuracy: 0.7073 - val_loss: 0.7456 - learning_rate: 5.0000e-04\n",
      "Epoch 23/60\n",
      "\u001b[1m1145/1145\u001b[0m \u001b[32m━━━━━━━━━━━━━━━━━━━━\u001b[0m\u001b[37m\u001b[0m \u001b[1m398s\u001b[0m 347ms/step - accuracy: 0.7616 - loss: 0.5776 - val_accuracy: 0.7191 - val_loss: 0.7373 - learning_rate: 5.0000e-04\n",
      "Epoch 24/60\n",
      "\u001b[1m1145/1145\u001b[0m \u001b[32m━━━━━━━━━━━━━━━━━━━━\u001b[0m\u001b[37m\u001b[0m \u001b[1m402s\u001b[0m 350ms/step - accuracy: 0.7648 - loss: 0.5700 - val_accuracy: 0.7151 - val_loss: 0.7474 - learning_rate: 5.0000e-04\n",
      "Epoch 25/60\n",
      "\u001b[1m1145/1145\u001b[0m \u001b[32m━━━━━━━━━━━━━━━━━━━━\u001b[0m\u001b[37m\u001b[0m \u001b[1m401s\u001b[0m 350ms/step - accuracy: 0.7639 - loss: 0.5682 - val_accuracy: 0.7008 - val_loss: 0.7719 - learning_rate: 5.0000e-04\n",
      "Epoch 26/60\n",
      "\u001b[1m1145/1145\u001b[0m \u001b[32m━━━━━━━━━━━━━━━━━━━━\u001b[0m\u001b[37m\u001b[0m \u001b[1m399s\u001b[0m 348ms/step - accuracy: 0.7667 - loss: 0.5575 - val_accuracy: 0.7129 - val_loss: 0.7660 - learning_rate: 5.0000e-04\n",
      "Epoch 27/60\n",
      "\u001b[1m1145/1145\u001b[0m \u001b[32m━━━━━━━━━━━━━━━━━━━━\u001b[0m\u001b[37m\u001b[0m \u001b[1m397s\u001b[0m 346ms/step - accuracy: 0.7779 - loss: 0.5309 - val_accuracy: 0.7201 - val_loss: 0.7486 - learning_rate: 2.5000e-04\n",
      "Epoch 28/60\n",
      "\u001b[1m1145/1145\u001b[0m \u001b[32m━━━━━━━━━━━━━━━━━━━━\u001b[0m\u001b[37m\u001b[0m \u001b[1m397s\u001b[0m 346ms/step - accuracy: 0.7841 - loss: 0.5264 - val_accuracy: 0.7228 - val_loss: 0.7368 - learning_rate: 2.5000e-04\n",
      "Epoch 29/60\n",
      "\u001b[1m1145/1145\u001b[0m \u001b[32m━━━━━━━━━━━━━━━━━━━━\u001b[0m\u001b[37m\u001b[0m \u001b[1m398s\u001b[0m 347ms/step - accuracy: 0.7865 - loss: 0.5161 - val_accuracy: 0.7207 - val_loss: 0.7427 - learning_rate: 2.5000e-04\n",
      "Epoch 30/60\n",
      "\u001b[1m1145/1145\u001b[0m \u001b[32m━━━━━━━━━━━━━━━━━━━━\u001b[0m\u001b[37m\u001b[0m \u001b[1m398s\u001b[0m 346ms/step - accuracy: 0.7881 - loss: 0.5111 - val_accuracy: 0.7238 - val_loss: 0.7337 - learning_rate: 2.5000e-04\n",
      "Epoch 31/60\n",
      "\u001b[1m1145/1145\u001b[0m \u001b[32m━━━━━━━━━━━━━━━━━━━━\u001b[0m\u001b[37m\u001b[0m \u001b[1m398s\u001b[0m 347ms/step - accuracy: 0.7842 - loss: 0.5116 - val_accuracy: 0.7260 - val_loss: 0.7300 - learning_rate: 2.5000e-04\n",
      "Epoch 32/60\n",
      "\u001b[1m1145/1145\u001b[0m \u001b[32m━━━━━━━━━━━━━━━━━━━━\u001b[0m\u001b[37m\u001b[0m \u001b[1m399s\u001b[0m 348ms/step - accuracy: 0.7873 - loss: 0.5051 - val_accuracy: 0.7307 - val_loss: 0.7157 - learning_rate: 2.5000e-04\n",
      "Epoch 33/60\n",
      "\u001b[1m1145/1145\u001b[0m \u001b[32m━━━━━━━━━━━━━━━━━━━━\u001b[0m\u001b[37m\u001b[0m \u001b[1m397s\u001b[0m 346ms/step - accuracy: 0.7894 - loss: 0.5033 - val_accuracy: 0.7260 - val_loss: 0.7310 - learning_rate: 2.5000e-04\n",
      "Epoch 34/60\n",
      "\u001b[1m1145/1145\u001b[0m \u001b[32m━━━━━━━━━━━━━━━━━━━━\u001b[0m\u001b[37m\u001b[0m \u001b[1m397s\u001b[0m 346ms/step - accuracy: 0.7939 - loss: 0.5004 - val_accuracy: 0.7238 - val_loss: 0.7251 - learning_rate: 2.5000e-04\n",
      "Epoch 35/60\n",
      "\u001b[1m1145/1145\u001b[0m \u001b[32m━━━━━━━━━━━━━━━━━━━━\u001b[0m\u001b[37m\u001b[0m \u001b[1m400s\u001b[0m 348ms/step - accuracy: 0.7918 - loss: 0.4958 - val_accuracy: 0.7311 - val_loss: 0.7236 - learning_rate: 2.5000e-04\n",
      "Epoch 36/60\n",
      "\u001b[1m1145/1145\u001b[0m \u001b[32m━━━━━━━━━━━━━━━━━━━━\u001b[0m\u001b[37m\u001b[0m \u001b[1m398s\u001b[0m 347ms/step - accuracy: 0.7951 - loss: 0.4956 - val_accuracy: 0.7365 - val_loss: 0.7064 - learning_rate: 1.2500e-04\n",
      "Epoch 37/60\n",
      "\u001b[1m1145/1145\u001b[0m \u001b[32m━━━━━━━━━━━━━━━━━━━━\u001b[0m\u001b[37m\u001b[0m \u001b[1m398s\u001b[0m 347ms/step - accuracy: 0.7987 - loss: 0.4822 - val_accuracy: 0.7311 - val_loss: 0.7223 - learning_rate: 1.2500e-04\n",
      "Epoch 38/60\n",
      "\u001b[1m1145/1145\u001b[0m \u001b[32m━━━━━━━━━━━━━━━━━━━━\u001b[0m\u001b[37m\u001b[0m \u001b[1m398s\u001b[0m 347ms/step - accuracy: 0.7961 - loss: 0.4843 - val_accuracy: 0.7329 - val_loss: 0.7189 - learning_rate: 1.2500e-04\n",
      "Epoch 39/60\n",
      "\u001b[1m1145/1145\u001b[0m \u001b[32m━━━━━━━━━━━━━━━━━━━━\u001b[0m\u001b[37m\u001b[0m \u001b[1m400s\u001b[0m 348ms/step - accuracy: 0.8006 - loss: 0.4781 - val_accuracy: 0.7316 - val_loss: 0.7325 - learning_rate: 1.2500e-04\n",
      "Epoch 40/60\n",
      "\u001b[1m1145/1145\u001b[0m \u001b[32m━━━━━━━━━━━━━━━━━━━━\u001b[0m\u001b[37m\u001b[0m \u001b[1m399s\u001b[0m 348ms/step - accuracy: 0.8047 - loss: 0.4712 - val_accuracy: 0.7431 - val_loss: 0.7115 - learning_rate: 6.2500e-05\n",
      "Epoch 41/60\n",
      "\u001b[1m1145/1145\u001b[0m \u001b[32m━━━━━━━━━━━━━━━━━━━━\u001b[0m\u001b[37m\u001b[0m \u001b[1m399s\u001b[0m 348ms/step - accuracy: 0.8008 - loss: 0.4686 - val_accuracy: 0.7335 - val_loss: 0.7214 - learning_rate: 6.2500e-05\n"
     ]
    },
    {
     "data": {
      "text/plain": [
       "<keras.src.callbacks.history.History at 0x29c3c155d50>"
      ]
     },
     "execution_count": 42,
     "metadata": {},
     "output_type": "execute_result"
    }
   ],
   "source": [
    "cnn.fit(train_data,validation_data=test_data,epochs=60,callbacks=[early_stopping, lr_reduction])"
   ]
  },
  {
   "cell_type": "code",
   "execution_count": 43,
   "id": "eac76c24-9787-4850-b8ca-c781b565128d",
   "metadata": {},
   "outputs": [
    {
     "name": "stderr",
     "output_type": "stream",
     "text": [
      "WARNING:absl:You are saving your model as an HDF5 file via `model.save()` or `keras.saving.save_model(model)`. This file format is considered legacy. We recommend using instead the native Keras format, e.g. `model.save('my_model.keras')` or `keras.saving.save_model(model, 'my_model.keras')`. \n"
     ]
    }
   ],
   "source": [
    "cnn.save(\"new_model.h5\")"
   ]
  },
  {
   "cell_type": "code",
   "execution_count": null,
   "id": "f7961712-bab7-4155-a5e1-7f5234af8687",
   "metadata": {},
   "outputs": [],
   "source": [
    "# from tensorflow.keras.models import load_model\n",
    "# from tensorflow.keras.layers import Dense, Dropout\n",
    "# from tensorflow.keras.callbacks import EarlyStopping, ReduceLROnPlateau\n",
    "# model = load_model('model.h5')\n",
    "# model.add(Dense(256, activation='relu',kernel_regularizer=tf.keras.regularizers.l2(0.001)))  \n",
    "# model.add(Dropout(0.5))  \n",
    "# model.add(Dense(28, activation='softmax'))  \n",
    "\n",
    "# model.compile(optimizer=tf.keras.optimizers.Adam(),\n",
    "#               loss='categorical_crossentropy',\n",
    "#               metrics=['accuracy'])\n",
    "# early_stopping = EarlyStopping(monitor='val_loss', patience=5, restore_best_weights=True)\n",
    "# lr_reduction = ReduceLROnPlateau(monitor='val_loss', factor=0.5, patience=3, min_lr=1e-6)\n",
    "# history = model.fit(\n",
    "#     x=train_data,\n",
    "#     epochs=15,\n",
    "#     validation_data=test_data,\n",
    "#     callbacks=[early_stopping, lr_reduction]\n",
    "# ).\n",
    "# model.save('modified_model.h5')"
   ]
  },
  {
   "cell_type": "code",
   "execution_count": null,
   "id": "3f703357-6e36-49aa-b132-e5c028c8e4f3",
   "metadata": {},
   "outputs": [],
   "source": [
    "# from tensorflow.keras.models import load_model\n",
    "# from tensorflow.keras.layers import Dense, Dropout\n",
    "# from tensorflow.keras.callbacks import EarlyStopping, ReduceLROnPlateau\n",
    "# import tensorflow as tf\n",
    "\n",
    "# model = load_model('modified2_model.h5')\n",
    "\n",
    "# model.add(Dense(256, activation='relu', kernel_regularizer=tf.keras.regularizers.l2(0.001), name=\"dense_custom_2\"))\n",
    "# model.add(Dropout(0.5, name=\"dropout_custom_2\"))\n",
    "# model.add(Dense(28, activation='softmax', name=\"output_custom_1\"))\n",
    "\n",
    "# learning_rate = 1e-4\n",
    "# optimizer = tf.keras.optimizers.Adam(learning_rate=learning_rate)\n",
    "\n",
    "# model.compile(optimizer=optimizer,\n",
    "#               loss='categorical_crossentropy',\n",
    "#               metrics=['accuracy'])\n",
    "\n",
    "# # early_stopping = EarlyStopping(monitor='val_loss', patience=5, restore_best_weights=True)\n",
    "# # lr_reduction = ReduceLROnPlateau(monitor='val_loss', factor=0.5, patience=3, min_lr=1e-6)\n",
    "\n",
    "# history = model.fit(\n",
    "#     x=train_data,\n",
    "#     epochs=15,\n",
    "#     validation_data=test_data,\n",
    "#     # callbacks=[early_stopping, lr_reduction]\n",
    "# )\n",
    "\n",
    "# model.save('modified3_model.h5')\n"
   ]
  },
  {
   "cell_type": "code",
   "execution_count": 47,
   "id": "6176fc9c-da78-4ec1-af49-e09c0b1715a4",
   "metadata": {},
   "outputs": [
    {
     "name": "stderr",
     "output_type": "stream",
     "text": [
      "WARNING:absl:Compiled the loaded model, but the compiled metrics have yet to be built. `model.compile_metrics` will be empty until you train or evaluate the model.\n"
     ]
    },
    {
     "name": "stdout",
     "output_type": "stream",
     "text": [
      "\u001b[1m286/286\u001b[0m \u001b[32m━━━━━━━━━━━━━━━━━━━━\u001b[0m\u001b[37m\u001b[0m \u001b[1m101s\u001b[0m 353ms/step\n"
     ]
    }
   ],
   "source": [
    "from tensorflow.keras.models import load_model\n",
    "from tensorflow.keras.layers import Dense, Dropout\n",
    "from tensorflow.keras.callbacks import EarlyStopping, ReduceLROnPlateau\n",
    "model = load_model('new_model.h5')\n",
    "predictions = model.predict(test_data)\n",
    "predicted_classes = np.argmax(predictions, axis=1)"
   ]
  },
  {
   "cell_type": "code",
   "execution_count": 48,
   "id": "c0e93c06-2064-4ea8-9ae6-cffe9fe8f91c",
   "metadata": {},
   "outputs": [],
   "source": [
    "label_map = {v: k for k, v in train_data.class_indices.items()}\n",
    "predicted_labels = [label_map[k] for k in predicted_classes]"
   ]
  },
  {
   "cell_type": "code",
   "execution_count": 49,
   "id": "aa9821f2-f716-4447-9ddf-9544d5cf5d93",
   "metadata": {},
   "outputs": [],
   "source": [
    "# predicted_labels.count('RF - AMD')"
   ]
  },
  {
   "cell_type": "code",
   "execution_count": 50,
   "id": "af2345fc-5229-4d08-8e8d-c4c7a6f37b08",
   "metadata": {},
   "outputs": [],
   "source": [
    "unique_list = []\n",
    "for item in predicted_labels:\n",
    "    if item not in unique_list:\n",
    "        unique_list.append(item)\n"
   ]
  },
  {
   "cell_type": "code",
   "execution_count": 51,
   "id": "0c2519db-f63c-4969-8954-8aa3b0741c2f",
   "metadata": {},
   "outputs": [],
   "source": [
    "unique_list.sort()"
   ]
  },
  {
   "cell_type": "code",
   "execution_count": 52,
   "id": "c6b24ebb-8ff6-41f2-a654-022791573a10",
   "metadata": {},
   "outputs": [
    {
     "data": {
      "text/plain": [
       "['Brain - Alzheimer MildDemented',\n",
       " 'Brain - Alzheimer ModerateDemented',\n",
       " 'Brain - Alzheimer NonDemented',\n",
       " 'Brain - Alzheimer VeryMildDemented',\n",
       " 'Brain - No  Brain Tumor',\n",
       " 'Brain - glioma Brain Tumor',\n",
       " 'Brain - meningioma Brain Tumor',\n",
       " 'Brain - pituitary Brain Tumor',\n",
       " 'Chest - Covid19',\n",
       " 'Chest - Lung Opacity',\n",
       " 'Chest - Normal',\n",
       " 'Chest - Pneumonia',\n",
       " 'RF - AMD',\n",
       " 'RF - Cataract',\n",
       " 'RF - Glaucoma',\n",
       " 'RF - Hypertensive Retinopathy',\n",
       " 'RF - Mild DR',\n",
       " 'RF - Moderate DR',\n",
       " 'RF - Normal Fundus',\n",
       " 'RF - Proliferate DR',\n",
       " 'RF - Severe DR',\n",
       " 'Skin - akiec',\n",
       " 'Skin - bcc',\n",
       " 'Skin - bkl',\n",
       " 'Skin - df',\n",
       " 'Skin - mel',\n",
       " 'Skin - nv',\n",
       " 'Skin - vasc']"
      ]
     },
     "execution_count": 52,
     "metadata": {},
     "output_type": "execute_result"
    }
   ],
   "source": [
    "unique_list"
   ]
  },
  {
   "cell_type": "code",
   "execution_count": 53,
   "id": "92c13a05-1165-4c30-b107-35c3ed248503",
   "metadata": {},
   "outputs": [
    {
     "name": "stdout",
     "output_type": "stream",
     "text": [
      "{'Brain - Alzheimer MildDemented': 0, 'Brain - Alzheimer ModerateDemented': 1, 'Brain - Alzheimer NonDemented': 2, 'Brain - Alzheimer VeryMildDemented': 3, 'Brain - No  Brain Tumor': 4, 'Brain - glioma Brain Tumor': 5, 'Brain - meningioma Brain Tumor': 6, 'Brain - pituitary Brain Tumor': 7, 'Chest - Covid19': 8, 'Chest - Lung Opacity': 9, 'Chest - Normal': 10, 'Chest - Pneumonia': 11, 'RF - AMD': 12, 'RF - Cataract': 13, 'RF - Glaucoma': 14, 'RF - Hypertensive Retinopathy': 15, 'RF - Mild DR': 16, 'RF - Moderate DR': 17, 'RF - Normal Fundus': 18, 'RF - Proliferate DR': 19, 'RF - Severe DR': 20, 'Skin - akiec': 21, 'Skin - bcc': 22, 'Skin - bkl': 23, 'Skin - df': 24, 'Skin - mel': 25, 'Skin - nv': 26, 'Skin - vasc': 27}\n"
     ]
    }
   ],
   "source": [
    "label_map = train_data.class_indices\n",
    "print(label_map)"
   ]
  },
  {
   "cell_type": "code",
   "execution_count": 55,
   "id": "648178b7-211c-4723-86e7-b05b969a9c5c",
   "metadata": {},
   "outputs": [
    {
     "name": "stdout",
     "output_type": "stream",
     "text": [
      "\u001b[1m1/1\u001b[0m \u001b[32m━━━━━━━━━━━━━━━━━━━━\u001b[0m\u001b[37m\u001b[0m \u001b[1m0s\u001b[0m 54ms/step\n",
      "Predicted label: Brain - glioma Brain Tumor\n"
     ]
    }
   ],
   "source": [
    "from tensorflow.keras.preprocessing.image import load_img, img_to_array\n",
    "import numpy as np\n",
    "img = load_img('D:\\\\IMAGE DISEASES\\\\archive (25)\\\\Augumented Data\\\\Brain - glioma Brain Tumor\\\\glioma Brain Tumor_0_36.jpeg', target_size=(120, 120))\n",
    "img_array = img_to_array(img)\n",
    "img_array = np.expand_dims(img_array, axis=0)\n",
    "img_array = img_array / 255.0  \n",
    "predictions = model.predict(img_array)\n",
    "predicted_class = np.argmax(predictions, axis=1)[0]\n",
    "\n",
    "inverse_label_map = {v: k for k, v in label_map.items()}\n",
    "predicted_label = inverse_label_map[predicted_class]\n",
    "\n",
    "print(f'Predicted label: {predicted_label}')\n"
   ]
  },
  {
   "cell_type": "code",
   "execution_count": null,
   "id": "dd0df41a-1167-4e21-b20c-590b69e5ed92",
   "metadata": {},
   "outputs": [],
   "source": []
  }
 ],
 "metadata": {
  "kernelspec": {
   "display_name": "Python 3 (ipykernel)",
   "language": "python",
   "name": "python3"
  },
  "language_info": {
   "codemirror_mode": {
    "name": "ipython",
    "version": 3
   },
   "file_extension": ".py",
   "mimetype": "text/x-python",
   "name": "python",
   "nbconvert_exporter": "python",
   "pygments_lexer": "ipython3",
   "version": "3.11.5"
  }
 },
 "nbformat": 4,
 "nbformat_minor": 5
}
